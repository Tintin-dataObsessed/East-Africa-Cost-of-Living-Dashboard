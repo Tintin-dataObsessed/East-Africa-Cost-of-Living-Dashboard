{
 "cells": [
  {
   "cell_type": "markdown",
   "id": "edefa2df",
   "metadata": {},
   "source": [
    "# Cost of Living Across East Africa: An Interactive Dashboard"
   ]
  },
  {
   "cell_type": "markdown",
   "id": "439d88bb",
   "metadata": {},
   "source": [
    "## Problem statement \n",
    "\n",
    "The project aims to compare affordability across major East African cities using real data from Numbeo. It focuses on capital cities including Nairobi Kenya, kampala Uganda and Dar Es Salaam Tanzania. "
   ]
  },
  {
   "cell_type": "markdown",
   "id": "26dc7ec7",
   "metadata": {},
   "source": [
    "## 1.1 Business Understanding"
   ]
  },
  {
   "cell_type": "markdown",
   "id": "41ceab3b",
   "metadata": {},
   "source": [
    "People planning to travel, relocate, or expand business operations often struggle to understand realistic cost of living differences across cities or countries.\n",
    "\n",
    "This project aims to target: Digital nomads, small businesss or startups looking to expand, NGOs that would like a indepth look at afforability in East Africa."
   ]
  },
  {
   "cell_type": "markdown",
   "id": "b65139ff",
   "metadata": {},
   "source": [
    "## 1.2 Objectives;\n",
    "- To create an interactive dashboard that visualizes the cost of living metrics across cities/countries\n",
    "- Visualize affordability rankings\n",
    "- Understand disparities: Compare income vs. cost of living across cities\n",
    "- Develop scoring systems: Create an \"affordability index\" using weighted average\n",
    "- Deploy interactive dashboard on streamlit for public use."
   ]
  },
  {
   "cell_type": "markdown",
   "id": "c7ecb672",
   "metadata": {},
   "source": [
    "## 3. Data Understanding"
   ]
  },
  {
   "cell_type": "markdown",
   "id": "645bf5eb",
   "metadata": {},
   "source": [
    "\n",
    "## 4. Exploratory Data Analysis"
   ]
  },
  {
   "cell_type": "markdown",
   "id": "c9b37eb3",
   "metadata": {},
   "source": [
    "\n",
    "## 5. Modelling\n",
    "Recommender Systems\n",
    "Determine the best model"
   ]
  },
  {
   "cell_type": "markdown",
   "id": "e658e357",
   "metadata": {},
   "source": [
    "## 6. Evaluation"
   ]
  },
  {
   "cell_type": "markdown",
   "id": "6d63a745",
   "metadata": {},
   "source": [
    "\n",
    "## 7. Recommendations"
   ]
  },
  {
   "cell_type": "markdown",
   "id": "2636dc33",
   "metadata": {},
   "source": [
    "\n",
    "## 8. Summary"
   ]
  },
  {
   "cell_type": "markdown",
   "id": "9cd17d98",
   "metadata": {},
   "source": []
  }
 ],
 "metadata": {
  "kernelspec": {
   "display_name": "learn-env",
   "language": "python",
   "name": "python3"
  },
  "language_info": {
   "name": "python",
   "version": "3.8.5"
  }
 },
 "nbformat": 4,
 "nbformat_minor": 5
}
