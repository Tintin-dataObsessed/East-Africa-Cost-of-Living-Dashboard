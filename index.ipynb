{
 "cells": [
  {
   "cell_type": "markdown",
   "id": "edefa2df",
   "metadata": {},
   "source": [
    "# Cost of Living Across East Africa: An Interactive Dashboard"
   ]
  },
  {
   "cell_type": "markdown",
   "id": "439d88bb",
   "metadata": {},
   "source": [
    "**Problem statement** : The project aims to compare affordability across major East African cities using real data from Numbeo. It focuses on capital cities including Nairobi Kenya, kampala Uganda and Dar Es Salaam Tanzania. "
   ]
  },
  {
   "cell_type": "markdown",
   "id": "26dc7ec7",
   "metadata": {},
   "source": [
    "### 1.1 Business Understanding"
   ]
  },
  {
   "cell_type": "markdown",
   "id": "41ceab3b",
   "metadata": {},
   "source": [
    "People planning to travel, relocate, or expand business operations often struggle to understand realistic cost of living differences across cities or countries.\n",
    "\n",
    "This project aims to target: Digital nomads, small businesss or startups looking to expand, NGOs that would like a indepth look at afforability in East Africa."
   ]
  },
  {
   "cell_type": "markdown",
   "id": "b65139ff",
   "metadata": {},
   "source": [
    "**Objectives**\n",
    "- To create an interactive dashboard that visualizes the cost of living metrics across cities/countries\n",
    "- Visualize affordability rankings\n",
    "- Understand disparities: Compare income vs. cost of living across cities\n",
    "- Develop scoring systems: Create an \"affordability index\" using weighted average\n",
    "- Deploy interactive dashboard on streamlit for public use."
   ]
  },
  {
   "cell_type": "markdown",
   "id": "4deee6f6",
   "metadata": {},
   "source": [
    "**Data Source** \n",
    "The data is scraped from Numero https://www.numbeo.com into a CSV file with the focused cities. "
   ]
  },
  {
   "cell_type": "markdown",
   "id": "c7ecb672",
   "metadata": {},
   "source": [
    "### 3. Data Understanding"
   ]
  },
  {
   "cell_type": "code",
   "execution_count": 7,
   "id": "9ff96e47",
   "metadata": {},
   "outputs": [],
   "source": [
    "#Import relevant libraries\n",
    "\n",
    "import numpy as np\n",
    "import pandas as pd\n",
    "import matplotlib.pyplot as plt\n",
    "%matplotlib inline\n",
    "import seaborn as sns"
   ]
  },
  {
   "cell_type": "code",
   "execution_count": 8,
   "id": "95050e0c",
   "metadata": {},
   "outputs": [
    {
     "data": {
      "application/vnd.microsoft.datawrangler.viewer.v0+json": {
       "columns": [
        {
         "name": "index",
         "rawType": "int64",
         "type": "integer"
        },
        {
         "name": "Item",
         "rawType": "object",
         "type": "string"
        },
        {
         "name": "Price Range",
         "rawType": "object",
         "type": "string"
        },
        {
         "name": "Average Price",
         "rawType": "object",
         "type": "string"
        },
        {
         "name": "City",
         "rawType": "object",
         "type": "string"
        }
       ],
       "ref": "46520bf9-9575-4115-9740-8f40abecac60",
       "rows": [
        [
         "0",
         "Meal, Inexpensive Restaurant",
         "10,000.00 USh",
         "5,000.00-15,000.00",
         "Kampala"
        ],
        [
         "1",
         "Meal for 2 People, Mid-range Restaurant, Three-course",
         "90,000.00 USh",
         "55,000.00-150,000.00",
         "Kampala"
        ],
        [
         "2",
         "McMeal at McDonalds (or Equivalent Combo Meal)",
         "31,000.00 USh",
         "25,000.00-35,811.98",
         "Kampala"
        ],
        [
         "3",
         "Domestic Beer (0.5 liter draught)",
         "5,000.00 USh",
         "3,500.00-7,000.00",
         "Kampala"
        ],
        [
         "4",
         "Imported Beer (0.33 liter bottle)",
         "9,000.00 USh",
         "6,500.00-15,000.00",
         "Kampala"
        ]
       ],
       "shape": {
        "columns": 4,
        "rows": 5
       }
      },
      "text/html": [
       "<div>\n",
       "<style scoped>\n",
       "    .dataframe tbody tr th:only-of-type {\n",
       "        vertical-align: middle;\n",
       "    }\n",
       "\n",
       "    .dataframe tbody tr th {\n",
       "        vertical-align: top;\n",
       "    }\n",
       "\n",
       "    .dataframe thead th {\n",
       "        text-align: right;\n",
       "    }\n",
       "</style>\n",
       "<table border=\"1\" class=\"dataframe\">\n",
       "  <thead>\n",
       "    <tr style=\"text-align: right;\">\n",
       "      <th></th>\n",
       "      <th>Item</th>\n",
       "      <th>Price Range</th>\n",
       "      <th>Average Price</th>\n",
       "      <th>City</th>\n",
       "    </tr>\n",
       "  </thead>\n",
       "  <tbody>\n",
       "    <tr>\n",
       "      <th>0</th>\n",
       "      <td>Meal, Inexpensive Restaurant</td>\n",
       "      <td>10,000.00 USh</td>\n",
       "      <td>5,000.00-15,000.00</td>\n",
       "      <td>Kampala</td>\n",
       "    </tr>\n",
       "    <tr>\n",
       "      <th>1</th>\n",
       "      <td>Meal for 2 People, Mid-range Restaurant, Three...</td>\n",
       "      <td>90,000.00 USh</td>\n",
       "      <td>55,000.00-150,000.00</td>\n",
       "      <td>Kampala</td>\n",
       "    </tr>\n",
       "    <tr>\n",
       "      <th>2</th>\n",
       "      <td>McMeal at McDonalds (or Equivalent Combo Meal)</td>\n",
       "      <td>31,000.00 USh</td>\n",
       "      <td>25,000.00-35,811.98</td>\n",
       "      <td>Kampala</td>\n",
       "    </tr>\n",
       "    <tr>\n",
       "      <th>3</th>\n",
       "      <td>Domestic Beer (0.5 liter draught)</td>\n",
       "      <td>5,000.00 USh</td>\n",
       "      <td>3,500.00-7,000.00</td>\n",
       "      <td>Kampala</td>\n",
       "    </tr>\n",
       "    <tr>\n",
       "      <th>4</th>\n",
       "      <td>Imported Beer (0.33 liter bottle)</td>\n",
       "      <td>9,000.00 USh</td>\n",
       "      <td>6,500.00-15,000.00</td>\n",
       "      <td>Kampala</td>\n",
       "    </tr>\n",
       "  </tbody>\n",
       "</table>\n",
       "</div>"
      ],
      "text/plain": [
       "                                                Item    Price Range  \\\n",
       "0                       Meal, Inexpensive Restaurant  10,000.00 USh   \n",
       "1  Meal for 2 People, Mid-range Restaurant, Three...  90,000.00 USh   \n",
       "2     McMeal at McDonalds (or Equivalent Combo Meal)  31,000.00 USh   \n",
       "3                  Domestic Beer (0.5 liter draught)   5,000.00 USh   \n",
       "4                  Imported Beer (0.33 liter bottle)   9,000.00 USh   \n",
       "\n",
       "          Average Price     City  \n",
       "0    5,000.00-15,000.00  Kampala  \n",
       "1  55,000.00-150,000.00  Kampala  \n",
       "2   25,000.00-35,811.98  Kampala  \n",
       "3     3,500.00-7,000.00  Kampala  \n",
       "4    6,500.00-15,000.00  Kampala  "
      ]
     },
     "execution_count": 8,
     "metadata": {},
     "output_type": "execute_result"
    }
   ],
   "source": [
    "# Load the dataset\n",
    "df = pd.read_csv('cost_of_living_cities.csv')\n",
    "df.head()"
   ]
  },
  {
   "cell_type": "markdown",
   "id": "645bf5eb",
   "metadata": {},
   "source": [
    "\n",
    "### 4. Exploratory Data Analysis"
   ]
  },
  {
   "cell_type": "markdown",
   "id": "c9b37eb3",
   "metadata": {},
   "source": [
    "\n",
    "### 5. Modelling\n",
    "Recommender Systems\n",
    "Determine the best model"
   ]
  },
  {
   "cell_type": "markdown",
   "id": "e658e357",
   "metadata": {},
   "source": [
    "### 6. Evaluation"
   ]
  },
  {
   "cell_type": "markdown",
   "id": "6d63a745",
   "metadata": {},
   "source": [
    "### 7. Recommendations"
   ]
  },
  {
   "cell_type": "markdown",
   "id": "2636dc33",
   "metadata": {},
   "source": [
    "### 8. Summary"
   ]
  },
  {
   "cell_type": "markdown",
   "id": "9cd17d98",
   "metadata": {},
   "source": []
  }
 ],
 "metadata": {
  "kernelspec": {
   "display_name": "learn-env",
   "language": "python",
   "name": "python3"
  },
  "language_info": {
   "codemirror_mode": {
    "name": "ipython",
    "version": 3
   },
   "file_extension": ".py",
   "mimetype": "text/x-python",
   "name": "python",
   "nbconvert_exporter": "python",
   "pygments_lexer": "ipython3",
   "version": "3.8.5"
  }
 },
 "nbformat": 4,
 "nbformat_minor": 5
}
